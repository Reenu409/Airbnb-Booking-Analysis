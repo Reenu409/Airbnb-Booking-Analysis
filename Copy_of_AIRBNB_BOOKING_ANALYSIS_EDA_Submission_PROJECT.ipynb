{
  "nbformat": 4,
  "nbformat_minor": 0,
  "metadata": {
    "colab": {
      "private_outputs": true,
      "provenance": [],
      "collapsed_sections": [
        "vncDsAP0Gaoa",
        "FJNUwmbgGyua",
        "w6K7xa23Elo4",
        "yQaldy8SH6Dl",
        "PH-0ReGfmX4f",
        "mDgbUHAGgjLW",
        "O_i_v8NEhb9l",
        "HhfV-JJviCcP",
        "Y3lxredqlCYt",
        "3RnN4peoiCZX",
        "x71ZqKXriCWQ",
        "7hBIi_osiCS2",
        "JlHwYmJAmNHm",
        "35m5QtbWiB9F",
        "PoPl-ycgm1ru",
        "H0kj-8xxnORC",
        "nA9Y7ga8ng1Z",
        "PBTbrJXOngz2",
        "u3PMJOP6ngxN",
        "dauF4eBmngu3",
        "bKJF3rekwFvQ",
        "MSa1f5Uengrz",
        "GF8Ens_Soomf",
        "0wOQAZs5pc--",
        "K5QZ13OEpz2H",
        "lQ7QKXXCp7Bj",
        "448CDAPjqfQr",
        "KSlN3yHqYklG",
        "t6dVpIINYklI",
        "ijmpgYnKYklI",
        "-JiQyfWJYklI",
        "EM7whBJCYoAo",
        "fge-S5ZAYoAp",
        "85gYPyotYoAp",
        "RoGjAbkUYoAp",
        "4Of9eVA-YrdM",
        "iky9q4vBYrdO",
        "F6T5p64dYrdO",
        "y-Ehk30pYrdP",
        "bamQiAODYuh1",
        "QHF8YVU7Yuh3",
        "GwzvFGzlYuh3",
        "qYpmQ266Yuh3",
        "OH-pJp9IphqM",
        "bbFf2-_FphqN",
        "_ouA3fa0phqN",
        "Seke61FWphqN",
        "PIIx-8_IphqN",
        "t27r6nlMphqO",
        "r2jJGEOYphqO",
        "b0JNsNcRphqO",
        "BZR9WyysphqO",
        "jj7wYXLtphqO",
        "eZrbJ2SmphqO",
        "rFu4xreNphqO",
        "YJ55k-q6phqO",
        "gCFgpxoyphqP",
        "OVtJsKN_phqQ",
        "lssrdh5qphqQ",
        "U2RJ9gkRphqQ",
        "1M8mcRywphqQ",
        "tgIPom80phqQ",
        "JMzcOPDDphqR",
        "x-EpHcCOp1ci",
        "X_VqEhTip1ck",
        "8zGJKyg5p1ck",
        "PVzmfK_Ep1ck",
        "n3dbpmDWp1ck",
        "ylSl6qgtp1ck",
        "ZWILFDl5p1ck",
        "M7G43BXep1ck",
        "Ag9LCva-p1cl",
        "E6MkPsBcp1cl",
        "2cELzS2fp1cl",
        "3MPXvC8up1cl",
        "NC_X3p0fY2L0",
        "UV0SzAkaZNRQ",
        "YPEH6qLeZNRQ",
        "q29F0dvdveiT",
        "EXh0U9oCveiU",
        "22aHeOlLveiV",
        "JcMwzZxoAimU",
        "8G2x9gOozGDZ",
        "gCX9965dhzqZ",
        "gIfDvo9L0UH2"
      ],
      "include_colab_link": true
    },
    "kernelspec": {
      "name": "python3",
      "display_name": "Python 3"
    },
    "language_info": {
      "name": "python"
    }
  },
  "cells": [
    {
      "cell_type": "markdown",
      "metadata": {
        "id": "view-in-github",
        "colab_type": "text"
      },
      "source": [
        "<a href=\"https://colab.research.google.com/github/Reenu409/Airbnb-Booking-Analysis/blob/main/Copy_of_AIRBNB_BOOKING_ANALYSIS_EDA_Submission_PROJECT.ipynb\" target=\"_parent\"><img src=\"https://colab.research.google.com/assets/colab-badge.svg\" alt=\"Open In Colab\"/></a>"
      ]
    },
    {
      "cell_type": "markdown",
      "source": [
        "# **Project Name**    - AIRBNB BOOKING ANALYSIS\n",
        "\n"
      ],
      "metadata": {
        "id": "vncDsAP0Gaoa"
      }
    },
    {
      "cell_type": "markdown",
      "source": [
        "##### **Project Type**    - EDA\n",
        "##### **Contribution**    - Team\n",
        "##### **Team Member 1 -** AJAY AGRAWAL\n",
        "##### **Team Member 2 -** Reenu"
      ],
      "metadata": {
        "id": "beRrZCGUAJYm"
      }
    },
    {
      "cell_type": "markdown",
      "source": [
        "# **Project Summary -**\n",
        "Since 2008, guests and hosts have used Airbnb to expand on traveling possibilites and present a more unique, personalized way of experiencing the world Today Airbnb become one of a kind service that is used and recognized by the whole world. Data analysis on millions of listings provided through Airbnb is a crucial factor for the company. These million of listings generate a lot of data-data that can be analyzed and used to security, business decisions , understanding of customer and providers behavior and performance on the platform, guiding marketing initiatives, implemenation of innovative additional services and such more\n",
        "This dataset has around 49000 observation in it with 16 columns and it is a mix between categorical and numeric values.\n",
        "\n"
      ],
      "metadata": {
        "id": "I5OtUnGtEBY2"
      }
    },
    {
      "cell_type": "markdown",
      "source": [
        "# **GitHub Link -** https://github.com/Ajay0197/airbnb-booking-analysis\n",
        "# **GitHub Link -** https://github.com/Reenu409/Airbnb-Booking-Analysis.git"
      ],
      "metadata": {
        "id": "w6K7xa23Elo4"
      }
    },
    {
      "cell_type": "markdown",
      "source": [
        "Provide your GitHub Link here."
      ],
      "metadata": {
        "id": "h1o69JH3Eqqn"
      }
    },
    {
      "cell_type": "markdown",
      "source": [
        "# **Problem Statement**\n",
        "Lets  Explore and analyze the Data set and find some insights\n",
        "\n",
        "1 What can we learn about different hosts and areas?\n",
        "\n",
        "2 What we learn from room type and their prices according to area?\n",
        "\n",
        "3 what can we learn from data ?\n",
        "\n",
        "4 Which hosts are charging higher price\n",
        "\n",
        "5 What is the correlation between different variables?\n",
        "\n",
        "6 What is the room count in overall NYC according to the listing of room types?\n",
        "\n",
        "7 Which hosts are the busiest and why is the reason?\n"
      ],
      "metadata": {
        "id": "YMnzXM24EYaQ"
      }
    },
    {
      "cell_type": "markdown",
      "source": [
        "#### **Define Your Business Objective?**"
      ],
      "metadata": {
        "id": "PH-0ReGfmX4f"
      }
    },
    {
      "cell_type": "markdown",
      "source": [
        "The project aims to gain interesting insight into customers behaviour when booking a airbnb.\n",
        "\n",
        "\n",
        " The demand for different segment of customer may requires different model for different segment . These insights can guide hotels to adjust their customer strategies and make preparation for unknown."
      ],
      "metadata": {
        "id": "jJSjuZFvbsYL"
      }
    },
    {
      "cell_type": "markdown",
      "source": [
        "# **General Guidelines** : -  "
      ],
      "metadata": {
        "id": "mDgbUHAGgjLW"
      }
    },
    {
      "cell_type": "markdown",
      "source": [
        "1.   Well-structured, formatted, and commented code is required.\n",
        "2.   Exception Handling, Production Grade Code & Deployment Ready Code will be a plus. Those students will be awarded some additional credits.\n",
        "     \n",
        "     The additional credits will have advantages over other students during Star Student selection.\n",
        "       \n",
        "             [ Note: - Deployment Ready Code is defined as, the whole .ipynb notebook should be executable in one go\n",
        "                       without a single error logged. ]\n",
        "\n",
        "3.   Each and every logic should have proper comments.\n",
        "4. You may add as many number of charts you want. Make Sure for each and every chart the following format should be answered.\n",
        "        \n",
        "\n",
        "```\n",
        "# Chart visualization code\n",
        "```\n",
        "            \n",
        "\n",
        "*   Why did you pick the specific chart?\n",
        "*   What is/are the insight(s) found from the chart?\n",
        "* Will the gained insights help creating a positive business impact?\n",
        "Are there any insights that lead to negative growth? Justify with specific reason.\n",
        "\n",
        "5. You have to create at least 20 logical & meaningful charts having important insights.\n",
        "\n",
        "\n",
        "[ Hints : - Do the Vizualization in  a structured way while following \"UBM\" Rule.\n",
        "\n",
        "U - Univariate Analysis,\n",
        "\n",
        "B - Bivariate Analysis (Numerical - Categorical, Numerical - Numerical, Categorical - Categorical)\n",
        "\n",
        "M - Multivariate Analysis\n",
        " ]\n",
        "\n",
        "\n",
        "\n"
      ],
      "metadata": {
        "id": "ZrxVaUj-hHfC"
      }
    },
    {
      "cell_type": "markdown",
      "source": [
        "# ***Let's Begin !***"
      ],
      "metadata": {
        "id": "O_i_v8NEhb9l"
      }
    },
    {
      "cell_type": "markdown",
      "source": [
        "## ***1. Know Your Data***"
      ],
      "metadata": {
        "id": "HhfV-JJviCcP"
      }
    },
    {
      "cell_type": "markdown",
      "source": [
        "### Import Libraries"
      ],
      "metadata": {
        "id": "Y3lxredqlCYt"
      }
    },
    {
      "cell_type": "code",
      "source": [
        "# Import Libraries\n",
        "import pandas as pd\n",
        "import numpy as np\n",
        "import matplotlib.pyplot as plt\n",
        "import seaborn as sns\n",
        "%matplotlib inline\n"
      ],
      "metadata": {
        "id": "Cgsc136TFS1A"
      },
      "execution_count": null,
      "outputs": []
    },
    {
      "cell_type": "markdown",
      "source": [
        "### Dataset Loading"
      ],
      "metadata": {
        "id": "3RnN4peoiCZX"
      }
    },
    {
      "cell_type": "code",
      "source": [
        "# Load Dataset\n",
        "from google.colab import drive\n",
        "drive.mount('/content/drive')"
      ],
      "metadata": {
        "id": "787CB0B1FbW_"
      },
      "execution_count": null,
      "outputs": []
    },
    {
      "cell_type": "markdown",
      "source": [
        "### Dataset First View"
      ],
      "metadata": {
        "id": "x71ZqKXriCWQ"
      }
    },
    {
      "cell_type": "code",
      "source": [
        "# Dataset First Look\n",
        "airbnb = pd.read_csv('/content/Airbnb NYC 2019.csv')\n",
        "airbnb"
      ],
      "metadata": {
        "id": "0VuuNVTZFvCH"
      },
      "execution_count": null,
      "outputs": []
    },
    {
      "cell_type": "markdown",
      "source": [
        "### Dataset Rows & Columns count"
      ],
      "metadata": {
        "id": "7hBIi_osiCS2"
      }
    },
    {
      "cell_type": "code",
      "source": [
        "# Dataset Rows & Columns count\n",
        "airbnb.shape"
      ],
      "metadata": {
        "id": "Kllu7SJgmLij"
      },
      "execution_count": null,
      "outputs": []
    },
    {
      "cell_type": "markdown",
      "source": [
        "### Dataset Information"
      ],
      "metadata": {
        "id": "JlHwYmJAmNHm"
      }
    },
    {
      "cell_type": "code",
      "source": [
        "# Dataset Info\n",
        "airbnb.info()"
      ],
      "metadata": {
        "id": "e9hRXRi6meOf"
      },
      "execution_count": null,
      "outputs": []
    },
    {
      "cell_type": "markdown",
      "source": [
        "#### Duplicate Values"
      ],
      "metadata": {
        "id": "35m5QtbWiB9F"
      }
    },
    {
      "cell_type": "code",
      "source": [
        "# Dataset Duplicate Value Count\n",
        "airbnb.duplicated().sum()"
      ],
      "metadata": {
        "id": "1sLdpKYkmox0"
      },
      "execution_count": null,
      "outputs": []
    },
    {
      "cell_type": "markdown",
      "source": [
        "#### Missing Values/Null Values"
      ],
      "metadata": {
        "id": "PoPl-ycgm1ru"
      }
    },
    {
      "cell_type": "code",
      "source": [
        "# Missing Values/Null Values Count\n",
        "airbnb.isnull().sum()"
      ],
      "metadata": {
        "id": "GgHWkxvamxVg"
      },
      "execution_count": null,
      "outputs": []
    },
    {
      "cell_type": "markdown",
      "source": [
        "1 There are total four columns with null values.\n",
        "\n",
        "2 name column is having total 16 null values.\n",
        "\n",
        "3 host_name is having 21 null values.\n",
        "\n",
        "4 last_review and reviews_per_month are having more null values.\n",
        "\n",
        "5 we will look at the columns and decide what we can do with them.\n"
      ],
      "metadata": {
        "id": "z4FSF_z9eiwl"
      }
    },
    {
      "cell_type": "code",
      "source": [
        "# missing value in percentage\n",
        "Total = airbnb.isnull().sum().sort_values(ascending = False)#total per column\n",
        "missing_values= round(((airbnb.isnull().sum())*100)/airbnb.isnull().count().sort_values(ascending = False),2)\n",
        "#missing_value data frame.\n",
        "missing_total_percentage = pd.concat([Total,missing_values],axis = 1,keys = ['Total','Percentage'],sort = False).sort_values('Total',ascending=False)\n",
        "missing_total_percentage"
      ],
      "metadata": {
        "id": "-5oDZpHre4kI"
      },
      "execution_count": null,
      "outputs": []
    },
    {
      "cell_type": "markdown",
      "source": [
        "### What did you know about your dataset?"
      ],
      "metadata": {
        "id": "H0kj-8xxnORC"
      }
    },
    {
      "cell_type": "markdown",
      "source": [
        "From data analysis point view of the host_name will not be that important as it as catorgorial feature will have lots of categories and this will have not contribute in exploring he data and also security point view of data.\n",
        "\n",
        "\n",
        "We will convert its data type to catogorical feature and replace 'NA' with 'never'."
      ],
      "metadata": {
        "id": "uFkuk1h4HXO9"
      }
    },
    {
      "cell_type": "markdown",
      "source": [
        "## ***2. Understanding Your Variables***"
      ],
      "metadata": {
        "id": "nA9Y7ga8ng1Z"
      }
    },
    {
      "cell_type": "code",
      "source": [
        "# Dataset Columns\n",
        "airbnb.columns"
      ],
      "metadata": {
        "id": "j7xfkqrt5Ag5"
      },
      "execution_count": null,
      "outputs": []
    },
    {
      "cell_type": "code",
      "source": [
        "# Dataset Describe\n",
        "airbnb.describe"
      ],
      "metadata": {
        "id": "DnOaZdaE5Q5t"
      },
      "execution_count": null,
      "outputs": []
    },
    {
      "cell_type": "markdown",
      "source": [
        "### Variables Description"
      ],
      "metadata": {
        "id": "PBTbrJXOngz2"
      }
    },
    {
      "cell_type": "markdown",
      "source": [
        "ID - it is a unique id for house/ apartment.\n",
        "\n",
        "Name- Name of the listing house /apartment.\n",
        "\n",
        "host id- host id is the government approved id for each individuals who rent their properties on airbnb.\n",
        "\n",
        "host name - host names are basically the name of the individual or organization.\n",
        "\n",
        "\n",
        "Neighbourhood groups--\n",
        " neighbourhood groups are the cluster of the neighbourhood in the area.\n",
        "\n",
        "Neighbourhood--\n",
        "when searching for accomadation in a city guests are able to their neighbourhood attribute sand explore layers of professional quality content.\n",
        "\n",
        "latitude - latitude is the measurment of distance north or south of the equator.\n",
        "\n",
        "longitude- longitude is the measurment east or west of the prime meridian.\n",
        "\n",
        "room type- airbnb has 3 categories for types of spaces\n",
        "\n",
        "1. entire house/ aparment\n",
        "\n",
        "2. private room\n",
        "\n",
        "3. shared room\n",
        "\n",
        "\n",
        "price - The total price of airbnb reservation is based on the rate set by the host.\n",
        "\n",
        "minimum night - that guest have to pay for book that house.\n",
        "\n",
        "number of reviews - number of each host sumbitted by guests.\n",
        "\n",
        "last_reviews - latest review submitted byn guests as a feedback.\n",
        "\n",
        "review per month--number of review host get per month.\n",
        "\n",
        "avaliabilty 365-\n",
        "it is an total of the number of the days the listing in available for during the year.\n",
        "\n",
        "\n"
      ],
      "metadata": {
        "id": "8yf597cnH4sZ"
      }
    },
    {
      "cell_type": "markdown",
      "source": [
        "### Check Unique Values for each variable."
      ],
      "metadata": {
        "id": "u3PMJOP6ngxN"
      }
    },
    {
      "cell_type": "code",
      "source": [
        "# Check Unique Values for each variable.\n",
        "import pandas as pd\n",
        "import seaborn as sns\n",
        "pd.Series({col:airbnb[col].unique() for col in airbnb})"
      ],
      "metadata": {
        "id": "4A5-_RP1pwOs"
      },
      "execution_count": null,
      "outputs": []
    },
    {
      "cell_type": "markdown",
      "source": [
        "## 3. ***Data Wrangling***"
      ],
      "metadata": {
        "id": "dauF4eBmngu3"
      }
    },
    {
      "cell_type": "markdown",
      "source": [
        "### Data Wrangling Code"
      ],
      "metadata": {
        "id": "bKJF3rekwFvQ"
      }
    },
    {
      "cell_type": "code",
      "source": [
        "# Write your code to make your dataset analysis ready.\n",
        "airbnb.head()"
      ],
      "metadata": {
        "id": "wk-9a2fpoLcV"
      },
      "execution_count": null,
      "outputs": []
    },
    {
      "cell_type": "code",
      "source": [
        "airbnb.tail()"
      ],
      "metadata": {
        "id": "B9gukv0KJcVM"
      },
      "execution_count": null,
      "outputs": []
    },
    {
      "cell_type": "code",
      "source": [
        "# Write your code to make your dataset analysis ready.\n",
        "print(f'final shape of the dataset is(airbnb.shape)')"
      ],
      "metadata": {
        "id": "FKDXwdk9Jsbr"
      },
      "execution_count": null,
      "outputs": []
    },
    {
      "cell_type": "code",
      "source": [
        "# checking the unique values which is to be analysed\n",
        "import pandas as pd\n",
        "import seaborn as sns\n",
        "pd.Series({col:airbnb [col].unique()for col in airbnb})"
      ],
      "metadata": {
        "id": "FqiD92lmJ0_n"
      },
      "execution_count": null,
      "outputs": []
    },
    {
      "cell_type": "markdown",
      "source": [
        "### What all manipulations have you done and insights you found?"
      ],
      "metadata": {
        "id": "MSa1f5Uengrz"
      }
    },
    {
      "cell_type": "markdown",
      "source": [
        "we can see that we have dealt with all the null values and added some values and added some new columns and now our dataset is ready to analysed.\n",
        "\n",
        "---\n",
        "\n"
      ],
      "metadata": {
        "id": "C1pfWkOduB2r"
      }
    },
    {
      "cell_type": "markdown",
      "source": [
        "## ***4. Data Vizualization, Storytelling & Experimenting with charts : Understand the relationships between variables***"
      ],
      "metadata": {
        "id": "GF8Ens_Soomf"
      }
    },
    {
      "cell_type": "markdown",
      "source": [
        "1   What can we learn about different  hosts and areas?"
      ],
      "metadata": {
        "id": "TitgjETPsWZH"
      }
    },
    {
      "cell_type": "code",
      "source": [
        "host_areas = airbnb.groupby(['host_name', 'neighbourhood_group'])['calculated_host_listings_count'].max().reset_index()\n",
        "host_areas.sort_values(by='calculated_host_listings_count',ascending=False).head(5)"
      ],
      "metadata": {
        "id": "WBljo4Susu1j"
      },
      "execution_count": null,
      "outputs": []
    },
    {
      "cell_type": "markdown",
      "source": [
        "we  find that host name sonder(nyc) has listed highest number of listings in manhattan followed by blueground"
      ],
      "metadata": {
        "id": "dp10SR9OurZl"
      }
    },
    {
      "cell_type": "markdown",
      "source": [
        "2  What we learn from room type and their prices according to area?"
      ],
      "metadata": {
        "id": "-UpZ57jAvMDG"
      }
    },
    {
      "cell_type": "code",
      "source": [
        "from pickle import FALSE\n",
        "room_price_area_wise = airbnb.groupby(['neighbourhood_group', 'room_type'])['price'].max().reset_index()\n",
        "room_price_area_wise.sort_values(by='price', ascending=False).head(10)"
      ],
      "metadata": {
        "id": "1-gGALY7vi2t"
      },
      "execution_count": null,
      "outputs": []
    },
    {
      "cell_type": "code",
      "source": [
        "# visualization code\n",
        "neighbourhood_group = ['Brooklyn', 'manhattan',' Queens', 'manhattan','Brooklyn','staten island', 'Queens','Brown','Queens','Brown']\n",
        "room_type= ['Entire home/apt','Entire home/apt','private room','private room','private room','Entire home/apt','Entire home/apt', 'private room','shared room']\n",
        "\n",
        "room_dict={}\n",
        "for i in room_type:\n",
        "\n",
        "  room_dict[i] =room_dict.get(i,0) + 1\n",
        "\n",
        "  plt.bar(room_dict.keys(),room_dict.values(), color= 'green',edgecolor = 'blue')\n",
        "  plt.title('Room Types')\n",
        "  plt.xlabel('Room Types')\n",
        "  plt.ylabel('Count')\n",
        "  plt.show()\n"
      ],
      "metadata": {
        "id": "7v_ESjsspbW7"
      },
      "execution_count": null,
      "outputs": []
    },
    {
      "cell_type": "markdown",
      "source": [
        "We found that Entire home/apt is the highest number of room types overall and prices are high in the brooking and Manhattan for entire home/apt."
      ],
      "metadata": {
        "id": "f1w0_Dw9MxuH"
      }
    },
    {
      "cell_type": "markdown",
      "source": [
        "3  What can we learn from data?(ex--location, price, reviews etc)\n"
      ],
      "metadata": {
        "id": "glODJFh89GLj"
      }
    },
    {
      "cell_type": "code",
      "source": [
        "area_reviews = airbnb.groupby(['neighbourhood_group'])['number_of_reviews'].max().reset_index()\n",
        "area_reviews"
      ],
      "metadata": {
        "id": "i0LZQQGj-1Oz"
      },
      "execution_count": null,
      "outputs": []
    },
    {
      "cell_type": "code",
      "source": [
        "# visualization code\n",
        "area = area_reviews['neighbourhood_group']\n",
        "review = area_reviews['number_of_reviews']\n",
        "fig = plt.figure(figsize=(10,5))\n",
        "\n",
        "plt.bar(area,review,color= \"blue\",width = 0.5)\n",
        "plt.xlabel('area')\n",
        "plt.ylabel('review')\n",
        "plt.title(\"Number of reviewin terms of area\")\n",
        "plt.show()"
      ],
      "metadata": {
        "id": "7nyLAcE0N_7W"
      },
      "execution_count": null,
      "outputs": []
    },
    {
      "cell_type": "code",
      "source": [
        "price_area = airbnb.groupby(['price'])['number_of_reviews'].max().reset_index()\n",
        "price_area.head(10)"
      ],
      "metadata": {
        "id": "lCo9Yw6DOZjP"
      },
      "execution_count": null,
      "outputs": []
    },
    {
      "cell_type": "code",
      "source": [
        "# visualization code\n",
        "price_list = price_area['price']\n",
        "review = price_area['number_of_reviews']\n",
        "fig = plt.figure(figsize = (10,5))\n",
        "\n",
        "plt.scatter(price_list,review)\n",
        "plt.xlabel('price')\n",
        "plt.ylabel('number of review')\n",
        "plt.title('number of review vs price')\n",
        "plt.show()"
      ],
      "metadata": {
        "id": "aWP20OmmPNMx"
      },
      "execution_count": null,
      "outputs": []
    },
    {
      "cell_type": "markdown",
      "source": [
        "From above visualization we can say that most number of people like to stay in less price and their reviews are higher in those areas"
      ],
      "metadata": {
        "id": "Gn-lZjm_Pgip"
      }
    },
    {
      "cell_type": "markdown",
      "source": [
        "4  Which hosts are charging higher price?\n"
      ],
      "metadata": {
        "id": "RMYI_1kBJY6Y"
      }
    },
    {
      "cell_type": "code",
      "source": [
        "highest_price= airbnb.groupby(['host_id','host_name','room_type','neighbourhood_group'])['price'].max().reset_index()\n",
        "highest_price = highest_price.sort_values(by = 'price',ascending =False).head(10)\n",
        "highest_price"
      ],
      "metadata": {
        "id": "k2-R0e8mJtFg"
      },
      "execution_count": null,
      "outputs": []
    },
    {
      "cell_type": "code",
      "source": [
        "# visualization code\n",
        "name_of_host = highest_price['host_name']\n",
        "price_charge = highest_price['price']\n",
        "\n",
        "fig = plt.figure(figsize = (10,5))\n",
        "plt.bar(name_of_host,price_charge, color = 'pink' ,width = 0.5)\n",
        "plt.xlabel('name of the host')\n",
        "plt.ylabel('price')\n",
        "plt.title('hosts with maximum price charges')\n",
        "plt.show()\n"
      ],
      "metadata": {
        "id": "bnC6kyfoQNpQ"
      },
      "execution_count": null,
      "outputs": []
    },
    {
      "cell_type": "markdown",
      "source": [
        "now we can have seen that 10 hosts who are chargings maximum price jelena ,kathrine, erin, matt, olson, amy, rum, jessica , saily, jack.\n",
        "\n",
        "max price 10000 USD"
      ],
      "metadata": {
        "id": "BBPpI8N6MnIT"
      }
    },
    {
      "cell_type": "markdown",
      "source": [
        "5.   What is the correlation between different variables ?\n"
      ],
      "metadata": {
        "id": "vhibjgfYR-ub"
      }
    },
    {
      "cell_type": "code",
      "source": [
        "# Correlation Heatmap visualization code\n",
        "plt.figure(figsize=(20,10))\n",
        "sns.heatmap(airbnb.corr(numeric_only=True), annot=True)\n",
        "plt.title('correlation of the columns', fontsize = 20)\n",
        "plt.show()"
      ],
      "metadata": {
        "id": "Dihq5wBBZgag"
      },
      "execution_count": null,
      "outputs": []
    },
    {
      "cell_type": "markdown",
      "source": [
        "we will seen all the correlation between different  variable."
      ],
      "metadata": {
        "id": "2iweedBMSZnV"
      }
    },
    {
      "cell_type": "markdown",
      "source": [
        "6. which  room types  of most  assigmnd?"
      ],
      "metadata": {
        "id": "c24NzqoMcaEn"
      }
    },
    {
      "cell_type": "code",
      "source": [
        "# visualization code\n",
        "plt.figure(figsize=(20,8))\n",
        "sns.countplot(x=airbnb['room_type'], order=airbnb['room_type'].value_counts().index)\n",
        "plt.title('assigned room type to guests',fontsize= 20)\n",
        "plt.show()"
      ],
      "metadata": {
        "id": "giI5AW13aqcW"
      },
      "execution_count": null,
      "outputs": []
    },
    {
      "cell_type": "markdown",
      "source": [
        "we saw that around 25000 guests preffered room type  entire home/apt but 22000 people assigmend private room type. this could be a reason to cancel the booking\n",
        "hotel could be entire home/apt type room to decrease cancellation."
      ],
      "metadata": {
        "id": "QlLbH2HEfdSG"
      }
    },
    {
      "cell_type": "markdown",
      "source": [
        "7.  What is the room count in overall NYC according to the listing of room types?"
      ],
      "metadata": {
        "id": "dFOIPSDDdGKW"
      }
    },
    {
      "cell_type": "code",
      "source": [
        "#  visualization code\n",
        "plt.rcParams['figure.figsize'] = (8, 5)\n",
        "ax= sns.countplot(y='room_type',hue='neighbourhood_group',data=airbnb,palette='bright')\n",
        "\n",
        "total = len(airbnb['room_type'])\n",
        "for p in ax.patches:\n",
        "        percentage = '{:.1f}%'.format(100 * p.get_width()/total)\n",
        "        x = p.get_x() + p.get_width() + 0.02\n",
        "        y = p.get_y() + p.get_height()/2\n",
        "        ax.annotate(percentage, (x, y))\n",
        "\n",
        "plt.title('Count of each room types in NYC')\n",
        "plt.xlabel('Rooms')\n",
        "plt.xticks(rotation=90)\n",
        "plt.ylabel('Room Counts')\n",
        "\n",
        "plt.show()"
      ],
      "metadata": {
        "id": "xyEJaAg_dPwo"
      },
      "execution_count": null,
      "outputs": []
    },
    {
      "cell_type": "markdown",
      "source": [
        "Manhattan has more listed properties with Entire home/apt around 27% of total listed properties followed by Brooklyn with around 19.6%.\n",
        "\n",
        "Private rooms are more in Brooklyn as in 20.7% of the total listed properties followed by Manhattan with 16.3% of them. While 6.9% of private rooms are from Queens.\n",
        "\n",
        "We can infer that Brooklyn,Queens,Bronx has more private room types while Manhattan which has the highest no of listings in entire NYC has more Entire home/apt room types."
      ],
      "metadata": {
        "id": "PhLa7pfPehai"
      }
    },
    {
      "cell_type": "markdown",
      "source": [
        "8. Is there any traffic difference among different areas and what could be the reason for it?"
      ],
      "metadata": {
        "id": "KJQfWJDLd0WH"
      }
    },
    {
      "cell_type": "code",
      "source": [
        "traffic_areas =airbnb.groupby(['neighbourhood_group','room_type'])['minimum_nights'].count().reset_index()\n",
        "traffic_areas = traffic_areas.sort_values(by='minimum_nights', ascending = False).head(10)\n",
        "traffic_areas"
      ],
      "metadata": {
        "id": "Kv2BbxdbPJ9n"
      },
      "execution_count": null,
      "outputs": []
    },
    {
      "cell_type": "code",
      "source": [
        "#  visualization code\n",
        "areas_traffic = traffic_areas['room_type']\n",
        "room_stayed = traffic_areas['minimum_nights']\n",
        "fig = plt.figure(figsize =(7,5))\n",
        "plt.bar(areas_traffic, room_stayed, color = \"blue\",width = 0.2)\n",
        "plt.xlabel(\"room type\")\n",
        "plt.ylabel('minimum night')\n",
        "plt.title(\"taffic areas based on minimum nights booked\")\n",
        "plt.show()"
      ],
      "metadata": {
        "id": "isYnmamTeHaa"
      },
      "execution_count": null,
      "outputs": []
    },
    {
      "cell_type": "markdown",
      "source": [
        "From this visualization We found that most of the people likely to stay at Entire home and Private room which are present in Manhattan, Brooklyn & Queens and also vistors referring stay in room which listing price is less."
      ],
      "metadata": {
        "id": "JlyQQMWueVou"
      }
    },
    {
      "cell_type": "markdown",
      "source": [
        "9. Which hosts are the busiest and why is the reason?"
      ],
      "metadata": {
        "id": "vQp4-uLGimi1"
      }
    },
    {
      "cell_type": "code",
      "source": [
        "busy_hosts= airbnb.groupby(['host_id','host_name','room_type'])['number_of_reviews']. max().reset_index()\n",
        "busy_hosts = busy_hosts.sort_values(by = 'number_of_reviews', ascending=False).head(10)\n",
        "busy_hosts"
      ],
      "metadata": {
        "id": "5HEZUaVZFo0T"
      },
      "execution_count": null,
      "outputs": []
    },
    {
      "cell_type": "code",
      "source": [
        "#  visualization code\n",
        "name_hosts = busy_hosts['host_name']\n",
        "review_got = busy_hosts['number_of_reviews']\n",
        "fig = plt.figure(figsize = (10,5))\n",
        "\n",
        "plt.bar(name_hosts,review_got,color = 'purple', width = 0.5)\n",
        "plt.xlabel('Name of the host')\n",
        "plt.ylabel('Review')\n",
        "plt.title('Busiest host in terms of reviews')\n",
        "plt.show()"
      ],
      "metadata": {
        "id": "LhMFKamji94z"
      },
      "execution_count": null,
      "outputs": []
    },
    {
      "cell_type": "markdown",
      "source": [
        "We have found Busiest hosts :\n",
        "\n",
        "1.Dona\n",
        "\n",
        "2.Ji\n",
        "\n",
        "3.Maya\n",
        "\n",
        "4.Carol\n",
        "\n",
        "5.Danielle\n",
        "\n",
        "Because these hosts listed their room type as Entire home and Private room which is preferred by most number of people and also their reviews are higher."
      ],
      "metadata": {
        "id": "x2nsnKJnjPMX"
      }
    },
    {
      "cell_type": "markdown",
      "source": [
        "10. what is pair plot?"
      ],
      "metadata": {
        "id": "zXR1SnyqsN95"
      }
    },
    {
      "cell_type": "code",
      "source": [
        "# Pair Plot visualization code\n",
        "import seaborn as sns\n",
        "sns.pairplot(airbnb)\n",
        "plt.show()"
      ],
      "metadata": {
        "id": "3bIVeZIcY7Bq"
      },
      "execution_count": null,
      "outputs": []
    },
    {
      "cell_type": "markdown",
      "source": [
        "A pairs plot allows us to see both distribution of single variales and ralationships.\n",
        "\n",
        "we can see the relationship between all of the columns with each other in above chart."
      ],
      "metadata": {
        "id": "r77fZDh2kdy8"
      }
    },
    {
      "cell_type": "markdown",
      "source": [
        "## **5. Solution to Business Objective**"
      ],
      "metadata": {
        "id": "JcMwzZxoAimU"
      }
    },
    {
      "cell_type": "markdown",
      "source": [
        "we find that host name sonder(NYC)has listed of listings in manhattn followed by blueground.\n",
        "\n",
        "we find that entire home/ apt is the highest number of room types overall and prices are high in the brooklyn and manhatten for entire home/apt.\n",
        "\n",
        "from above visulaization we can say that most numbre of like to  stay in less price and their reviews are higher in those areas.\n",
        "\n",
        "We have found Busiest hosts :\n",
        "\n",
        "Dona, Ji, Maya,Carol,Danielle\n",
        "\n",
        "Because these hosts listed their room type as Entire home and Private room which is preferred by most number of people and also their reviews are higher."
      ],
      "metadata": {
        "id": "oc6zA_zXlvnY"
      }
    },
    {
      "cell_type": "markdown",
      "source": [
        "# **Conclusion**"
      ],
      "metadata": {
        "id": "gCX9965dhzqZ"
      }
    },
    {
      "cell_type": "markdown",
      "source": [
        "Neighbourhood groups must say to give the review in website from the customers, because other customers decides to stay according to reviews.\n",
        "\n",
        "The hotel which will have the good review will attracts the customers more.\n",
        "\n",
        "The hotels must provide the holiday to the customers at adequate rate which attracts the customer.\n",
        "\n",
        "to work on infrastructure or beautification part and administration to increase the flow of their customers.\n",
        "\n",
        "To categorize the range of their of the suit and added to it giving the best customer sevice to increase the global rating of the hotel."
      ],
      "metadata": {
        "id": "HoYgSp5GE8h0"
      }
    },
    {
      "cell_type": "markdown",
      "source": [
        "### ***Hurrah! You have successfully completed your EDA Capstone Project !!!***"
      ],
      "metadata": {
        "id": "gIfDvo9L0UH2"
      }
    }
  ]
}